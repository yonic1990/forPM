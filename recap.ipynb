{
 "cells": [
  {
   "cell_type": "markdown",
   "metadata": {},
   "source": [
    "# Assignment"
   ]
  },
  {
   "cell_type": "code",
   "execution_count": 2,
   "metadata": {},
   "outputs": [
    {
     "data": {
      "text/plain": [
       "15"
      ]
     },
     "execution_count": 2,
     "metadata": {},
     "output_type": "execute_result"
    }
   ],
   "source": [
    "x = 5\n",
    "y = 10\n",
    "x+y"
   ]
  },
  {
   "cell_type": "code",
   "execution_count": 5,
   "metadata": {},
   "outputs": [
    {
     "name": "stdout",
     "output_type": "stream",
     "text": [
      "15 15\n"
     ]
    }
   ],
   "source": [
    "z = x + y\n",
    "also_z = sum((x,y))\n",
    "print(z, also_z)"
   ]
  },
  {
   "cell_type": "code",
   "execution_count": 6,
   "metadata": {},
   "outputs": [
    {
     "data": {
      "text/plain": [
       "6"
      ]
     },
     "execution_count": 6,
     "metadata": {},
     "output_type": "execute_result"
    }
   ],
   "source": [
    "x + 1"
   ]
  },
  {
   "cell_type": "code",
   "execution_count": 7,
   "metadata": {},
   "outputs": [
    {
     "data": {
      "text/plain": [
       "5"
      ]
     },
     "execution_count": 7,
     "metadata": {},
     "output_type": "execute_result"
    }
   ],
   "source": [
    "print(x)"
   ]
  },
  {
   "cell_type": "code",
   "execution_count": 9,
   "metadata": {},
   "outputs": [],
   "source": [
    "x = x + 1"
   ]
  },
  {
   "cell_type": "code",
   "execution_count": 10,
   "metadata": {},
   "outputs": [
    {
     "data": {
      "text/plain": [
       "7"
      ]
     },
     "execution_count": 10,
     "metadata": {},
     "output_type": "execute_result"
    }
   ],
   "source": [
    "print(x)"
   ]
  },
  {
   "cell_type": "markdown",
   "metadata": {},
   "source": [
    "Variables have types, some can \"interact\""
   ]
  },
  {
   "cell_type": "code",
   "execution_count": 23,
   "metadata": {},
   "outputs": [],
   "source": [
    "a = \"I'm a string\"\n",
    "aa = \"I'm also a string\"\n",
    "b = 5\n",
    "c = 0.8\n",
    "d = True"
   ]
  },
  {
   "cell_type": "code",
   "execution_count": 26,
   "metadata": {},
   "outputs": [
    {
     "data": {
      "text/plain": [
       "\"I'm a string ,I'm also a string\""
      ]
     },
     "execution_count": 26,
     "metadata": {},
     "output_type": "execute_result"
    }
   ],
   "source": [
    "a + \" ,\" +  aa"
   ]
  },
  {
   "cell_type": "code",
   "execution_count": 27,
   "metadata": {},
   "outputs": [
    {
     "data": {
      "text/plain": [
       "5.8"
      ]
     },
     "execution_count": 27,
     "metadata": {},
     "output_type": "execute_result"
    }
   ],
   "source": [
    "b+c"
   ]
  },
  {
   "cell_type": "code",
   "execution_count": 28,
   "metadata": {},
   "outputs": [
    {
     "ename": "TypeError",
     "evalue": "can only concatenate str (not \"int\") to str",
     "output_type": "error",
     "traceback": [
      "\u001b[0;31m---------------------------------------------------------------------------\u001b[0m",
      "\u001b[0;31mTypeError\u001b[0m                                 Traceback (most recent call last)",
      "\u001b[0;32m<ipython-input-28-bd58363a63fc>\u001b[0m in \u001b[0;36m<module>\u001b[0;34m\u001b[0m\n\u001b[0;32m----> 1\u001b[0;31m \u001b[0ma\u001b[0m \u001b[0;34m+\u001b[0m \u001b[0mb\u001b[0m\u001b[0;34m\u001b[0m\u001b[0;34m\u001b[0m\u001b[0m\n\u001b[0m",
      "\u001b[0;31mTypeError\u001b[0m: can only concatenate str (not \"int\") to str"
     ]
    }
   ],
   "source": [
    "a + b"
   ]
  },
  {
   "cell_type": "code",
   "execution_count": 29,
   "metadata": {},
   "outputs": [
    {
     "data": {
      "text/plain": [
       "6"
      ]
     },
     "execution_count": 29,
     "metadata": {},
     "output_type": "execute_result"
    }
   ],
   "source": [
    "b + d"
   ]
  },
  {
   "cell_type": "code",
   "execution_count": 30,
   "metadata": {},
   "outputs": [
    {
     "data": {
      "text/plain": [
       "1"
      ]
     },
     "execution_count": 30,
     "metadata": {},
     "output_type": "execute_result"
    }
   ],
   "source": [
    "int(d)"
   ]
  },
  {
   "cell_type": "code",
   "execution_count": 32,
   "metadata": {},
   "outputs": [
    {
     "name": "stdout",
     "output_type": "stream",
     "text": [
      "None\n"
     ]
    }
   ],
   "source": [
    "e = None\n",
    "print(e)"
   ]
  },
  {
   "cell_type": "code",
   "execution_count": 33,
   "metadata": {},
   "outputs": [
    {
     "ename": "TypeError",
     "evalue": "unsupported operand type(s) for +: 'NoneType' and 'str'",
     "output_type": "error",
     "traceback": [
      "\u001b[0;31m---------------------------------------------------------------------------\u001b[0m",
      "\u001b[0;31mTypeError\u001b[0m                                 Traceback (most recent call last)",
      "\u001b[0;32m<ipython-input-33-f0c8d32fd92b>\u001b[0m in \u001b[0;36m<module>\u001b[0;34m\u001b[0m\n\u001b[0;32m----> 1\u001b[0;31m \u001b[0me\u001b[0m \u001b[0;34m+\u001b[0m \u001b[0ma\u001b[0m\u001b[0;34m\u001b[0m\u001b[0;34m\u001b[0m\u001b[0m\n\u001b[0m",
      "\u001b[0;31mTypeError\u001b[0m: unsupported operand type(s) for +: 'NoneType' and 'str'"
     ]
    }
   ],
   "source": [
    "e + a"
   ]
  },
  {
   "cell_type": "code",
   "execution_count": 34,
   "metadata": {},
   "outputs": [
    {
     "ename": "TypeError",
     "evalue": "unsupported operand type(s) for +: 'NoneType' and 'int'",
     "output_type": "error",
     "traceback": [
      "\u001b[0;31m---------------------------------------------------------------------------\u001b[0m",
      "\u001b[0;31mTypeError\u001b[0m                                 Traceback (most recent call last)",
      "\u001b[0;32m<ipython-input-34-102255ac5689>\u001b[0m in \u001b[0;36m<module>\u001b[0;34m\u001b[0m\n\u001b[0;32m----> 1\u001b[0;31m \u001b[0me\u001b[0m \u001b[0;34m+\u001b[0m \u001b[0mb\u001b[0m\u001b[0;34m\u001b[0m\u001b[0;34m\u001b[0m\u001b[0m\n\u001b[0m",
      "\u001b[0;31mTypeError\u001b[0m: unsupported operand type(s) for +: 'NoneType' and 'int'"
     ]
    }
   ],
   "source": [
    "e + b"
   ]
  },
  {
   "cell_type": "code",
   "execution_count": 123,
   "metadata": {},
   "outputs": [
    {
     "name": "stdout",
     "output_type": "stream",
     "text": [
      "25\n",
      "2.5\n",
      "25\n",
      "2\n"
     ]
    }
   ],
   "source": [
    "a = 5\n",
    "print(a * 5)\n",
    "print(a/2)\n",
    "print(a**2)\n",
    "print(a%3)"
   ]
  },
  {
   "cell_type": "markdown",
   "metadata": {},
   "source": [
    "# Functions"
   ]
  },
  {
   "cell_type": "markdown",
   "metadata": {},
   "source": [
    "Functions are a way to repeat a block multiple times in different variations\n",
    "We pack the block of code, and instead of hard-coding (x=5 etc) the parameters once we\n",
    "make them *dynamic* i.e. we can call the functions with different values of x"
   ]
  },
  {
   "cell_type": "markdown",
   "metadata": {},
   "source": [
    "General structure of function:\n",
    "\n",
    "def name_of_functions(arg1, arg2,...., arg_with_default1 = val, arg_with_default2 = val2...):\\\n",
    "&nbsp;&nbsp;&nbsp;&nbsp;&nbsp;*(here we do stuff with the args the function was called with, or with no args at all)\\\n",
    "&nbsp;&nbsp;&nbsp;&nbsp;&nbsp;(we usually want to return something at the end of the function)\\\n",
    "&nbsp;&nbsp;&nbsp;&nbsp;&nbsp;return *something*"
   ]
  },
  {
   "cell_type": "code",
   "execution_count": 14,
   "metadata": {},
   "outputs": [],
   "source": [
    "def my_first_function(argument1, argument2):\n",
    "    summed_variable = argument1 + argument2\n",
    "    print(\"We can also print from inside the function, to broadcast useful information\") # this is a \"side-effect\"\n",
    "    return summed_variable"
   ]
  },
  {
   "cell_type": "code",
   "execution_count": 12,
   "metadata": {},
   "outputs": [
    {
     "data": {
      "text/plain": [
       "<function __main__.my_first_function(argument1, argument2)>"
      ]
     },
     "execution_count": 12,
     "metadata": {},
     "output_type": "execute_result"
    }
   ],
   "source": [
    "my_first_function"
   ]
  },
  {
   "cell_type": "code",
   "execution_count": 15,
   "metadata": {},
   "outputs": [
    {
     "name": "stdout",
     "output_type": "stream",
     "text": [
      "We can also print from inside the function, to broadcast useful information\n"
     ]
    },
    {
     "data": {
      "text/plain": [
       "8"
      ]
     },
     "execution_count": 15,
     "metadata": {},
     "output_type": "execute_result"
    }
   ],
   "source": [
    "my_first_function(5,3)"
   ]
  },
  {
   "cell_type": "code",
   "execution_count": 16,
   "metadata": {},
   "outputs": [
    {
     "name": "stdout",
     "output_type": "stream",
     "text": [
      "We can also print from inside the function, to broadcast useful information\n"
     ]
    }
   ],
   "source": [
    "catching_the_sum = my_first_function(5,3)"
   ]
  },
  {
   "cell_type": "code",
   "execution_count": 17,
   "metadata": {},
   "outputs": [
    {
     "name": "stdout",
     "output_type": "stream",
     "text": [
      "8\n"
     ]
    }
   ],
   "source": [
    "print(catching_the_sum)"
   ]
  },
  {
   "cell_type": "code",
   "execution_count": 18,
   "metadata": {},
   "outputs": [],
   "source": [
    "def my_first_function_adds_three_usually(argument1, argument2 = 3):\n",
    "    summed_variable = argument1 + argument2\n",
    "    print(\"Argument2 was {}\".format(argument2))\n",
    "    return summed_variable"
   ]
  },
  {
   "cell_type": "code",
   "execution_count": 19,
   "metadata": {},
   "outputs": [
    {
     "name": "stdout",
     "output_type": "stream",
     "text": [
      "Argument2 was 3\n",
      "8\n"
     ]
    }
   ],
   "source": [
    "lets_see = my_first_function_adds_three_usually(5)\n",
    "print(lets_see)"
   ]
  },
  {
   "cell_type": "code",
   "execution_count": 20,
   "metadata": {},
   "outputs": [
    {
     "name": "stdout",
     "output_type": "stream",
     "text": [
      "Argument2 was 10\n",
      "15\n"
     ]
    }
   ],
   "source": [
    "lets_see2 = my_first_function_adds_three_usually(5,10)\n",
    "print(lets_see2)"
   ]
  },
  {
   "cell_type": "markdown",
   "metadata": {},
   "source": [
    "### Functions have scope, variables **created** inside the functions won't be accissable outside of the function (unless returned)"
   ]
  },
  {
   "cell_type": "code",
   "execution_count": 35,
   "metadata": {},
   "outputs": [],
   "source": [
    "def add_three_nums(a,b,c):\n",
    "    mid_sum = a + b\n",
    "    final_sum = mid_sum + c\n",
    "    return final_sum"
   ]
  },
  {
   "cell_type": "code",
   "execution_count": 37,
   "metadata": {},
   "outputs": [
    {
     "name": "stdout",
     "output_type": "stream",
     "text": [
      "6\n"
     ]
    }
   ],
   "source": [
    "give_me_sum = add_three_nums(1,2,3)\n",
    "print(give_me_sum)"
   ]
  },
  {
   "cell_type": "code",
   "execution_count": 38,
   "metadata": {},
   "outputs": [
    {
     "ename": "NameError",
     "evalue": "name 'mid_sum' is not defined",
     "output_type": "error",
     "traceback": [
      "\u001b[0;31m---------------------------------------------------------------------------\u001b[0m",
      "\u001b[0;31mNameError\u001b[0m                                 Traceback (most recent call last)",
      "\u001b[0;32m<ipython-input-38-8b29660c2065>\u001b[0m in \u001b[0;36m<module>\u001b[0;34m\u001b[0m\n\u001b[1;32m      1\u001b[0m \u001b[0mgive_me_sum2\u001b[0m \u001b[0;34m=\u001b[0m \u001b[0madd_three_nums\u001b[0m\u001b[0;34m(\u001b[0m\u001b[0;36m2\u001b[0m\u001b[0;34m,\u001b[0m\u001b[0;36m3\u001b[0m\u001b[0;34m,\u001b[0m\u001b[0;36m4\u001b[0m\u001b[0;34m)\u001b[0m\u001b[0;34m\u001b[0m\u001b[0;34m\u001b[0m\u001b[0m\n\u001b[0;32m----> 2\u001b[0;31m \u001b[0mmid_sum\u001b[0m\u001b[0;34m\u001b[0m\u001b[0;34m\u001b[0m\u001b[0m\n\u001b[0m",
      "\u001b[0;31mNameError\u001b[0m: name 'mid_sum' is not defined"
     ]
    }
   ],
   "source": [
    "give_me_sum2 = add_three_nums(2,3,4)\n",
    "mid_sum"
   ]
  },
  {
   "cell_type": "code",
   "execution_count": 39,
   "metadata": {},
   "outputs": [
    {
     "name": "stdout",
     "output_type": "stream",
     "text": [
      "11\n"
     ]
    }
   ],
   "source": [
    "x = 5 \n",
    "def add_three_nums_plus_x(a,b,c):\n",
    "    mid_sum = a+b+c\n",
    "    final_sum = x + mid_sum\n",
    "    return final_sum\n",
    "\n",
    "print(add_three_nums_plus_x(1,2,3))\n",
    "    "
   ]
  },
  {
   "cell_type": "markdown",
   "metadata": {},
   "source": [
    "# Lists"
   ]
  },
  {
   "cell_type": "code",
   "execution_count": 45,
   "metadata": {},
   "outputs": [
    {
     "name": "stdout",
     "output_type": "stream",
     "text": [
      "[1, 2, 3]\n"
     ]
    }
   ],
   "source": [
    "a = [1,2,3]\n",
    "print(a)"
   ]
  },
  {
   "cell_type": "code",
   "execution_count": 46,
   "metadata": {},
   "outputs": [
    {
     "name": "stdout",
     "output_type": "stream",
     "text": [
      "[1, 2, 3, 5]\n"
     ]
    }
   ],
   "source": [
    "a.append(5)\n",
    "print(a)"
   ]
  },
  {
   "cell_type": "code",
   "execution_count": 47,
   "metadata": {},
   "outputs": [
    {
     "name": "stdout",
     "output_type": "stream",
     "text": [
      "['Yoni', 'Andrew', 'Julie']\n"
     ]
    }
   ],
   "source": [
    "a = [\"Yoni\",\"Andrew\",\"Julie\"]\n",
    "print(a)"
   ]
  },
  {
   "cell_type": "code",
   "execution_count": 49,
   "metadata": {},
   "outputs": [
    {
     "name": "stdout",
     "output_type": "stream",
     "text": [
      "['Yoni', 'Andrew', 5, False]\n"
     ]
    }
   ],
   "source": [
    "a = [\"Yoni\",\"Andrew\",5, False]\n",
    "print(a)"
   ]
  },
  {
   "cell_type": "code",
   "execution_count": 51,
   "metadata": {},
   "outputs": [
    {
     "name": "stdout",
     "output_type": "stream",
     "text": [
      "[[1, 2, 3], [4, 5, 6]]\n"
     ]
    }
   ],
   "source": [
    "a = [[1,2,3],[4,5,6]]\n",
    "print(a)"
   ]
  },
  {
   "cell_type": "code",
   "execution_count": 55,
   "metadata": {},
   "outputs": [
    {
     "name": "stdout",
     "output_type": "stream",
     "text": [
      "1\n",
      "2\n",
      "3\n",
      "2\n",
      "1\n"
     ]
    }
   ],
   "source": [
    "a = [1,2,3]\n",
    "y = 0\n",
    "print(a[0])\n",
    "print(a[1])\n",
    "print(a[-1])\n",
    "print(a[-2])\n",
    "print(a[y])"
   ]
  },
  {
   "cell_type": "code",
   "execution_count": 57,
   "metadata": {},
   "outputs": [
    {
     "name": "stdout",
     "output_type": "stream",
     "text": [
      "[1, 2, 3]\n",
      "[4, 5, 6]\n",
      "3\n",
      "6\n"
     ]
    }
   ],
   "source": [
    "a = [[1,2,3],[4,5,6]]\n",
    "print(a[0])\n",
    "print(a[1])\n",
    "print(a[0][2])\n",
    "print(a[1][2])"
   ]
  },
  {
   "cell_type": "code",
   "execution_count": 61,
   "metadata": {},
   "outputs": [
    {
     "name": "stdout",
     "output_type": "stream",
     "text": [
      "[2, 3, 35]\n",
      "[74, 23, 12, 794]\n",
      "[1, 2, 3, 35]\n",
      "[74, 23, 12]\n"
     ]
    }
   ],
   "source": [
    "a = [1,2,3,35,12,74,23,12,794]\n",
    "print(a[1:4])\n",
    "print(a[5:])\n",
    "print(a[:4])\n",
    "print(a[5:-1])"
   ]
  },
  {
   "cell_type": "code",
   "execution_count": 65,
   "metadata": {},
   "outputs": [
    {
     "name": "stdout",
     "output_type": "stream",
     "text": [
      "[1, 2]\n",
      "[5, 6]\n"
     ]
    }
   ],
   "source": [
    "a = [[1,2,3],[4,5,6,8]]\n",
    "print(a[0][:2])\n",
    "print(a[1][1:-1])"
   ]
  },
  {
   "cell_type": "code",
   "execution_count": 68,
   "metadata": {},
   "outputs": [
    {
     "name": "stdout",
     "output_type": "stream",
     "text": [
      "[1, 2, 3, 35, 12, 74, 23, 12, 794]\n",
      "[1, 2, 3, 35, 1000, 74, 23, 12, 794]\n"
     ]
    }
   ],
   "source": [
    "a = [1,2,3,35,12,74,23,12,794]\n",
    "print(a)\n",
    "a[4] = 1000\n",
    "print(a)"
   ]
  },
  {
   "cell_type": "code",
   "execution_count": 115,
   "metadata": {},
   "outputs": [
    {
     "name": "stdout",
     "output_type": "stream",
     "text": [
      "[5, 6, 5, 6, 5, 6, 5, 6, 5, 6]\n"
     ]
    }
   ],
   "source": [
    "a = [5,6]\n",
    "print(a * 5)"
   ]
  },
  {
   "cell_type": "code",
   "execution_count": 117,
   "metadata": {},
   "outputs": [
    {
     "name": "stdout",
     "output_type": "stream",
     "text": [
      "Hello Hello Hello Hello Hello \n"
     ]
    }
   ],
   "source": [
    "a = \"Hello \"\n",
    "print(a*5)"
   ]
  },
  {
   "cell_type": "markdown",
   "metadata": {},
   "source": [
    "# If statements"
   ]
  },
  {
   "cell_type": "code",
   "execution_count": 83,
   "metadata": {},
   "outputs": [
    {
     "name": "stdout",
     "output_type": "stream",
     "text": [
      "a before: 5\n",
      "a after: 7\n"
     ]
    }
   ],
   "source": [
    "a = 5\n",
    "print(\"a before: {}\".format(a))\n",
    "if a == 5:\n",
    "    a = a+2\n",
    "else:\n",
    "    a = a+5\n",
    "print(\"a after: {}\".format(a))"
   ]
  },
  {
   "cell_type": "code",
   "execution_count": 70,
   "metadata": {},
   "outputs": [
    {
     "name": "stdout",
     "output_type": "stream",
     "text": [
      "a before: 5\n",
      "a after: 7\n"
     ]
    }
   ],
   "source": [
    "a = 5\n",
    "print(\"a before: {}\".format(a))\n",
    "if a>3:\n",
    "    a = a+2\n",
    "else:\n",
    "    a = a+5\n",
    "print(\"a after: {}\".format(a))"
   ]
  },
  {
   "cell_type": "code",
   "execution_count": 73,
   "metadata": {},
   "outputs": [
    {
     "name": "stdout",
     "output_type": "stream",
     "text": [
      "a before: 5\n",
      "a after: 15\n"
     ]
    }
   ],
   "source": [
    "a = 5\n",
    "print(\"a before: {}\".format(a))\n",
    "if a>10:\n",
    "    a = a+2\n",
    "elif a<3:\n",
    "    a = a+5\n",
    "else:\n",
    "    a = a+ 10\n",
    "print(\"a after: {}\".format(a))"
   ]
  },
  {
   "cell_type": "code",
   "execution_count": 77,
   "metadata": {},
   "outputs": [
    {
     "name": "stdout",
     "output_type": "stream",
     "text": [
      "a before: 5\n",
      "a after: 7\n"
     ]
    }
   ],
   "source": [
    "a = 5\n",
    "print(\"a before: {}\".format(a))\n",
    "if a>3 and a < 8:\n",
    "    a = a+2\n",
    "elif a>15:\n",
    "    a = a+5\n",
    "else:\n",
    "    a = a+ 10\n",
    "print(\"a after: {}\".format(a))"
   ]
  },
  {
   "cell_type": "code",
   "execution_count": 82,
   "metadata": {},
   "outputs": [
    {
     "name": "stdout",
     "output_type": "stream",
     "text": [
      "a before: 5\n",
      "a after: 15\n"
     ]
    }
   ],
   "source": [
    "a = 5\n",
    "print(\"a before: {}\".format(a))\n",
    "if a < 3 or a > 8:\n",
    "    a = a+2\n",
    "else:\n",
    "    a = a + 10\n",
    "print(\"a after: {}\".format(a))"
   ]
  },
  {
   "cell_type": "code",
   "execution_count": 85,
   "metadata": {},
   "outputs": [
    {
     "name": "stdout",
     "output_type": "stream",
     "text": [
      "Prof.Dr\n",
      "Mr.\n",
      "Sir\n",
      "I don't know this guy\n"
     ]
    }
   ],
   "source": [
    "def give_title(name):\n",
    "    if name == \"Andrew\":\n",
    "        return \"Prof.Dr\"\n",
    "    elif name == \"Yoni\":\n",
    "        return \"Mr.\"\n",
    "    elif name == \"Elton John\":\n",
    "        return \"Sir\"\n",
    "    else:\n",
    "        return \"I don't know this guy\"\n",
    "\n",
    "result = give_title(\"Andrew\")\n",
    "print(result)\n",
    "result = give_title(\"Yoni\")\n",
    "print(result)\n",
    "result = give_title(\"Elton John\")\n",
    "print(result)\n",
    "result = give_title(\"Kanye West\")\n",
    "print(result)"
   ]
  },
  {
   "cell_type": "markdown",
   "metadata": {},
   "source": [
    "# General Useful/Must have build in functions and keywords"
   ]
  },
  {
   "cell_type": "code",
   "execution_count": 86,
   "metadata": {},
   "outputs": [
    {
     "name": "stdout",
     "output_type": "stream",
     "text": [
      "(1, 2, 3)\n",
      "<class 'tuple'>\n",
      "[1, 2, 3]\n",
      "<class 'list'>\n"
     ]
    }
   ],
   "source": [
    "# list - converts appropriate types into list\n",
    "a = (1,2,3)\n",
    "print(a)\n",
    "print(type(a))\n",
    "b = list(a)\n",
    "print(b)\n",
    "print(type(b))"
   ]
  },
  {
   "cell_type": "code",
   "execution_count": 88,
   "metadata": {},
   "outputs": [
    {
     "name": "stdout",
     "output_type": "stream",
     "text": [
      "range(0, 5)\n",
      "<class 'range'>\n",
      "[0, 1, 2, 3, 4]\n",
      "<class 'list'>\n"
     ]
    }
   ],
   "source": [
    "# range - can create a generator object, we can convert it to list\n",
    "a = range(5)\n",
    "print(a)\n",
    "print(type(a))\n",
    "a = list(a)\n",
    "print(a)\n",
    "print(type(a))"
   ]
  },
  {
   "cell_type": "code",
   "execution_count": 89,
   "metadata": {},
   "outputs": [
    {
     "name": "stdout",
     "output_type": "stream",
     "text": [
      "range(3, 7)\n",
      "<class 'range'>\n",
      "[3, 4, 5, 6]\n",
      "<class 'list'>\n"
     ]
    }
   ],
   "source": [
    "a = range(3,7)\n",
    "print(a)\n",
    "a = list(a)\n",
    "print(a)"
   ]
  },
  {
   "cell_type": "code",
   "execution_count": 92,
   "metadata": {},
   "outputs": [
    {
     "name": "stdout",
     "output_type": "stream",
     "text": [
      "range(3, 13, 2)\n",
      "[3, 5, 7, 9, 11]\n"
     ]
    }
   ],
   "source": [
    "a = range(3,13,2)\n",
    "print(a)\n",
    "a = list(a)\n",
    "print(a)"
   ]
  },
  {
   "cell_type": "markdown",
   "metadata": {},
   "source": [
    "# Loops\n",
    "A \"While\" Loop is used to repeat a specific block of code an unknown number of times, until a condition is met. For example, if we want to ask a user for a number between 1 and 10, we don't know how many times the user may enter a larger number, so we keep asking \"while the number is not between 1 and 10\". If we (or the computer) knows exactly how many times to execute a section of code (such as shuffling a deck of cards) we use a for loop.\n",
    "\n",
    "  while ( condition is true ): \\\n",
    "&nbsp;&nbsp;&nbsp;&nbsp;&nbsp;    **do something** \\\n",
    "&nbsp;&nbsp;&nbsp;&nbsp;&nbsp;    % Note: the \"something\" should eventually result \\\n",
    "&nbsp;&nbsp;&nbsp;&nbsp;&nbsp;    % in the condition being false \\\n"
   ]
  },
  {
   "cell_type": "code",
   "execution_count": 101,
   "metadata": {},
   "outputs": [
    {
     "name": "stdout",
     "output_type": "stream",
     "text": [
      "Please provide a number between 1 and 10  1\n",
      "Please provide a number between 1 and 10  10\n",
      "Please provide a number between 1 and 10  5\n"
     ]
    }
   ],
   "source": [
    "ans = None\n",
    "while ans!= \"5\":\n",
    "    ans = input(\"Please provide a number between 1 and 10  \")"
   ]
  },
  {
   "cell_type": "code",
   "execution_count": 106,
   "metadata": {},
   "outputs": [
    {
     "name": "stdout",
     "output_type": "stream",
     "text": [
      "This is round number 1\n",
      "This is round number 2\n",
      "This is round number 3\n",
      "This is round number 4\n",
      "This is round number 5\n",
      "This is round number 6\n",
      "This is round number 7\n",
      "This is round number 8\n"
     ]
    }
   ],
   "source": [
    "# we wait for a chance that comes only 1 in 10 times\n",
    "import numpy as np\n",
    "got_it = 10000000\n",
    "counter = 0\n",
    "while got_it > 0.1:\n",
    "    counter = counter + 1\n",
    "    got_it = np.random.rand(1)\n",
    "    print(\"This is round number {}\".format(counter))"
   ]
  },
  {
   "cell_type": "code",
   "execution_count": null,
   "metadata": {},
   "outputs": [],
   "source": [
    "y = 0\n",
    "while True:\n",
    "    print(y)\n",
    "    y = y + 100\n",
    "    if y >= 1000:\n",
    "        break"
   ]
  },
  {
   "cell_type": "code",
   "execution_count": null,
   "metadata": {},
   "outputs": [],
   "source": [
    "y = 0\n",
    "while True:\n",
    "    print(y)    \n",
    "    y = y + 100\n",
    "    if y >= 1000:\n",
    "        break\n",
    "    if y < 400:\n",
    "        continue    \n",
    "    y = y + 10"
   ]
  },
  {
   "cell_type": "markdown",
   "metadata": {},
   "source": [
    "for loop can be used when we want to execute code a known number of times\n",
    "general structure:\n",
    "\n",
    "for var in iter:\\\n",
    "&nbsp;&nbsp;&nbsp;&nbsp;&nbsp; **do something**"
   ]
  },
  {
   "cell_type": "code",
   "execution_count": 109,
   "metadata": {},
   "outputs": [
    {
     "name": "stdout",
     "output_type": "stream",
     "text": [
      "0\n",
      "1\n",
      "2\n",
      "3\n",
      "4\n",
      "5\n",
      "6\n",
      "7\n",
      "8\n",
      "9\n"
     ]
    }
   ],
   "source": [
    "for i in range(10):\n",
    "    print(i)"
   ]
  },
  {
   "cell_type": "code",
   "execution_count": 112,
   "metadata": {},
   "outputs": [
    {
     "name": "stdout",
     "output_type": "stream",
     "text": [
      "0\n",
      "2\n",
      "4\n",
      "6\n",
      "8\n",
      "Final x is 40\n"
     ]
    }
   ],
   "source": [
    "x = 0\n",
    "for i in range(0,10,2):\n",
    "    x = x + (i*2)\n",
    "    print(i)\n",
    "print(\"Final x is {}\".format(x))"
   ]
  },
  {
   "cell_type": "code",
   "execution_count": null,
   "metadata": {},
   "outputs": [],
   "source": [
    "# you can iterate over \"raw\" lists, strings, tuples and many other objects"
   ]
  },
  {
   "cell_type": "code",
   "execution_count": 113,
   "metadata": {},
   "outputs": [
    {
     "name": "stdout",
     "output_type": "stream",
     "text": [
      "p\n",
      "r\n",
      "o\n",
      "c\n",
      "r\n",
      "a\n",
      "s\n",
      "t\n",
      "i\n",
      "n\n",
      "a\n",
      "t\n",
      "i\n",
      "o\n",
      "n\n"
     ]
    }
   ],
   "source": [
    "a = \"procrastination\"\n",
    "# let's spell\n",
    "for char in a:\n",
    "    print(char)"
   ]
  },
  {
   "cell_type": "code",
   "execution_count": 114,
   "metadata": {},
   "outputs": [
    {
     "name": "stdout",
     "output_type": "stream",
     "text": [
      "pp\n",
      "rr\n",
      "oo\n",
      "cc\n",
      "rr\n",
      "aa\n",
      "ss\n",
      "tt\n",
      "ii\n",
      "nn\n",
      "aa\n",
      "tt\n",
      "ii\n",
      "oo\n",
      "nn\n"
     ]
    }
   ],
   "source": [
    "a = \"procrastination\"\n",
    "# let's double\n",
    "for char in a:\n",
    "    print(char*2)"
   ]
  },
  {
   "cell_type": "code",
   "execution_count": 118,
   "metadata": {},
   "outputs": [
    {
     "name": "stdout",
     "output_type": "stream",
     "text": [
      "The Magic Number is 3\n",
      "The Magic Number divided by 3 is 1.0\n",
      "The Magic Number is 6\n",
      "The Magic Number divided by 3 is 2.0\n",
      "The Magic Number is 9\n",
      "The Magic Number divided by 3 is 3.0\n",
      "The Magic Number is 12\n",
      "The Magic Number divided by 3 is 4.0\n",
      "The Magic Number is 25\n",
      "The Magic Number divided by 3 is 8.333333333333334\n",
      "The Magic Number is 69\n",
      "The Magic Number divided by 3 is 23.0\n",
      "The Magic Number is 420\n",
      "The Magic Number divided by 3 is 140.0\n"
     ]
    }
   ],
   "source": [
    "a = [3,6,9,12,25,69,420]\n",
    "for num in a:\n",
    "    print(\"The Magic Number is {}\".format(num))\n",
    "    print(\"The Magic Number divided by 3 is {}\".format(num/3))"
   ]
  },
  {
   "cell_type": "code",
   "execution_count": null,
   "metadata": {},
   "outputs": [],
   "source": []
  }
 ],
 "metadata": {
  "kernelspec": {
   "display_name": "Python 3.8.3 64-bit ('base': conda)",
   "language": "python",
   "name": "python38364bitbaseconda2db78179a3554e5a93a5687549b9cc22"
  },
  "language_info": {
   "codemirror_mode": {
    "name": "ipython",
    "version": 3
   },
   "file_extension": ".py",
   "mimetype": "text/x-python",
   "name": "python",
   "nbconvert_exporter": "python",
   "pygments_lexer": "ipython3",
   "version": "3.8.3"
  }
 },
 "nbformat": 4,
 "nbformat_minor": 4
}
