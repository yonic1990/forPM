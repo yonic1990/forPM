{
 "cells": [
  {
   "cell_type": "code",
   "execution_count": 2,
   "metadata": {},
   "outputs": [],
   "source": [
    "import numpy as np"
   ]
  },
  {
   "cell_type": "markdown",
   "metadata": {},
   "source": [
    "## Dictionaries"
   ]
  },
  {
   "cell_type": "markdown",
   "metadata": {},
   "source": [
    "A dictionary consists of a collection of key-value pairs. Each key-value pair maps the key to its associated value.\n",
    "You can define a dictionary by enclosing a comma-separated list of key-value pairs in curly braces ({}). A colon (:) separates each key from its associated value"
   ]
  },
  {
   "cell_type": "markdown",
   "metadata": {},
   "source": [
    "d = {\\\n",
    "&nbsp;&nbsp;&nbsp;&nbsp;&nbsp;    key: value,\\\n",
    "&nbsp;&nbsp;&nbsp;&nbsp;&nbsp;    key2: value2,\\\n",
    "&nbsp;&nbsp;&nbsp;&nbsp;&nbsp;      .\\\n",
    "&nbsp;&nbsp;&nbsp;&nbsp;&nbsp;      .\\\n",
    "&nbsp;&nbsp;&nbsp;&nbsp;&nbsp;      .\\\n",
    "&nbsp;&nbsp;&nbsp;&nbsp;&nbsp;    keyN: valueN \\\n",
    "}\n"
   ]
  },
  {
   "cell_type": "code",
   "execution_count": 1,
   "metadata": {},
   "outputs": [],
   "source": [
    "car = {\n",
    "  \"brand\": \"Porsche\",\n",
    "  \"model\": \"Boxter\",\n",
    "  \"year\": 2015,\n",
    "  \"price_than_and_now\": [20000,15000]\n",
    "}\n"
   ]
  },
  {
   "cell_type": "code",
   "execution_count": 2,
   "metadata": {},
   "outputs": [
    {
     "data": {
      "text/plain": [
       "{'brand': 'Porsche',\n",
       " 'model': 'Boxter',\n",
       " 'year': 2015,\n",
       " 'price_than_and_now': [20000, 15000]}"
      ]
     },
     "execution_count": 2,
     "metadata": {},
     "output_type": "execute_result"
    }
   ],
   "source": [
    "car"
   ]
  },
  {
   "cell_type": "markdown",
   "metadata": {},
   "source": [
    "#### Accessing dict values\n",
    "A value is retrieved from a dictionary by specifying its corresponding key in square brackets"
   ]
  },
  {
   "cell_type": "code",
   "execution_count": 4,
   "metadata": {},
   "outputs": [
    {
     "name": "stdout",
     "output_type": "stream",
     "text": [
      "Porsche\n",
      "[20000, 15000]\n"
     ]
    }
   ],
   "source": [
    "print(car['brand'])\n",
    "print(car['price_than_and_now'])"
   ]
  },
  {
   "cell_type": "markdown",
   "metadata": {},
   "source": [
    "If you refer to a key that is not in the dictionary, Python raises an exception"
   ]
  },
  {
   "cell_type": "code",
   "execution_count": 5,
   "metadata": {},
   "outputs": [
    {
     "ename": "KeyError",
     "evalue": "'length'",
     "output_type": "error",
     "traceback": [
      "\u001b[0;31m---------------------------------------------------------------------------\u001b[0m",
      "\u001b[0;31mKeyError\u001b[0m                                  Traceback (most recent call last)",
      "\u001b[0;32m<ipython-input-5-f23bfeeb27c1>\u001b[0m in \u001b[0;36m<module>\u001b[0;34m\u001b[0m\n\u001b[0;32m----> 1\u001b[0;31m \u001b[0mcar\u001b[0m\u001b[0;34m[\u001b[0m\u001b[0;34m'length'\u001b[0m\u001b[0;34m]\u001b[0m\u001b[0;34m\u001b[0m\u001b[0;34m\u001b[0m\u001b[0m\n\u001b[0m",
      "\u001b[0;31mKeyError\u001b[0m: 'length'"
     ]
    }
   ],
   "source": [
    "car['length']"
   ]
  },
  {
   "cell_type": "markdown",
   "metadata": {},
   "source": [
    "#### Adding new keys\n",
    "Adding an entry to an existing dictionary is simply a matter of assigning a new key and value"
   ]
  },
  {
   "cell_type": "code",
   "execution_count": 6,
   "metadata": {},
   "outputs": [],
   "source": [
    "car['length'] = 350.5"
   ]
  },
  {
   "cell_type": "code",
   "execution_count": 7,
   "metadata": {},
   "outputs": [
    {
     "data": {
      "text/plain": [
       "350.5"
      ]
     },
     "execution_count": 7,
     "metadata": {},
     "output_type": "execute_result"
    }
   ],
   "source": [
    "car['length']"
   ]
  },
  {
   "cell_type": "markdown",
   "metadata": {},
   "source": [
    "If you want to update an entry, you can just assign a new value to an existing key"
   ]
  },
  {
   "cell_type": "code",
   "execution_count": 8,
   "metadata": {},
   "outputs": [],
   "source": [
    "car['year'] = 2018"
   ]
  },
  {
   "cell_type": "code",
   "execution_count": 9,
   "metadata": {},
   "outputs": [
    {
     "name": "stdout",
     "output_type": "stream",
     "text": [
      "2018\n"
     ]
    }
   ],
   "source": [
    "print(car['year'])"
   ]
  },
  {
   "cell_type": "markdown",
   "metadata": {},
   "source": [
    "**Note**: Although access to items in a dictionary does not depend on order, Python does guarantee that the order of items in a dictionary is preserved. When displayed, items will appear in the order they were defined, and iteration through the keys will occur in that order as well. Items added to a dictionary are added at the end. If items are deleted, the order of the remaining items is retained."
   ]
  },
  {
   "cell_type": "markdown",
   "metadata": {},
   "source": [
    "#### Deleting keys"
   ]
  },
  {
   "cell_type": "code",
   "execution_count": 18,
   "metadata": {},
   "outputs": [],
   "source": [
    "del car['length']"
   ]
  },
  {
   "cell_type": "code",
   "execution_count": 19,
   "metadata": {},
   "outputs": [
    {
     "ename": "KeyError",
     "evalue": "'length'",
     "output_type": "error",
     "traceback": [
      "\u001b[0;31m---------------------------------------------------------------------------\u001b[0m",
      "\u001b[0;31mKeyError\u001b[0m                                  Traceback (most recent call last)",
      "\u001b[0;32m<ipython-input-19-f23bfeeb27c1>\u001b[0m in \u001b[0;36m<module>\u001b[0;34m\u001b[0m\n\u001b[0;32m----> 1\u001b[0;31m \u001b[0mcar\u001b[0m\u001b[0;34m[\u001b[0m\u001b[0;34m'length'\u001b[0m\u001b[0;34m]\u001b[0m\u001b[0;34m\u001b[0m\u001b[0;34m\u001b[0m\u001b[0m\n\u001b[0m",
      "\u001b[0;31mKeyError\u001b[0m: 'length'"
     ]
    }
   ],
   "source": [
    "car['length']"
   ]
  },
  {
   "cell_type": "markdown",
   "metadata": {},
   "source": [
    "#### What can be a dict key?"
   ]
  },
  {
   "cell_type": "code",
   "execution_count": 11,
   "metadata": {},
   "outputs": [
    {
     "name": "stdout",
     "output_type": "stream",
     "text": [
      "aaa\n",
      "bbb\n",
      "ccc\n",
      "ddd\n"
     ]
    }
   ],
   "source": [
    "mydict = {42: 'aaa', 2.78: 'bbb', True: 'ccc',(3,4):'ddd'}\n",
    "print(mydict[42])\n",
    "print(mydict[2.78])\n",
    "print(mydict[True])\n",
    "print(mydict[(3,4)])"
   ]
  },
  {
   "cell_type": "markdown",
   "metadata": {},
   "source": [
    "Keys must be **immutable**\\\n",
    "a tuple is immutable, while a list is not"
   ]
  },
  {
   "cell_type": "code",
   "execution_count": 13,
   "metadata": {},
   "outputs": [
    {
     "name": "stdout",
     "output_type": "stream",
     "text": [
      "eee\n"
     ]
    }
   ],
   "source": [
    "mydict[(\"Yoni\",5)] = 'eee'\n",
    "print(mydict[(\"Yoni\",5)])"
   ]
  },
  {
   "cell_type": "code",
   "execution_count": 14,
   "metadata": {},
   "outputs": [
    {
     "ename": "TypeError",
     "evalue": "unhashable type: 'list'",
     "output_type": "error",
     "traceback": [
      "\u001b[0;31m---------------------------------------------------------------------------\u001b[0m",
      "\u001b[0;31mTypeError\u001b[0m                                 Traceback (most recent call last)",
      "\u001b[0;32m<ipython-input-14-a69594ca3ca4>\u001b[0m in \u001b[0;36m<module>\u001b[0;34m\u001b[0m\n\u001b[0;32m----> 1\u001b[0;31m \u001b[0mmydict\u001b[0m\u001b[0;34m[\u001b[0m\u001b[0;34m[\u001b[0m\u001b[0;36m1\u001b[0m\u001b[0;34m,\u001b[0m\u001b[0;36m2\u001b[0m\u001b[0;34m]\u001b[0m\u001b[0;34m]\u001b[0m \u001b[0;34m=\u001b[0m \u001b[0;34m'fff'\u001b[0m\u001b[0;34m\u001b[0m\u001b[0;34m\u001b[0m\u001b[0m\n\u001b[0m",
      "\u001b[0;31mTypeError\u001b[0m: unhashable type: 'list'"
     ]
    }
   ],
   "source": [
    "mydict[[1,2]] = 'fff'"
   ]
  },
  {
   "cell_type": "markdown",
   "metadata": {},
   "source": [
    "#### Build-in methods and operators"
   ]
  },
  {
   "cell_type": "code",
   "execution_count": 16,
   "metadata": {},
   "outputs": [
    {
     "name": "stdout",
     "output_type": "stream",
     "text": [
      "True\n",
      "True\n",
      "False\n"
     ]
    }
   ],
   "source": [
    "# check if key exists\n",
    "print('model' in car)\n",
    "print('year' in car)\n",
    "print('width' in car)"
   ]
  },
  {
   "cell_type": "code",
   "execution_count": 17,
   "metadata": {},
   "outputs": [
    {
     "name": "stdout",
     "output_type": "stream",
     "text": [
      "5\n"
     ]
    }
   ],
   "source": [
    "# len function for checking how many keys are there\n",
    "print(len(car))"
   ]
  },
  {
   "cell_type": "code",
   "execution_count": 20,
   "metadata": {},
   "outputs": [
    {
     "data": {
      "text/plain": [
       "{}"
      ]
     },
     "execution_count": 20,
     "metadata": {},
     "output_type": "execute_result"
    }
   ],
   "source": [
    "# clear() function - deletes everything from the dict\n",
    "mydict.clear()\n",
    "mydict"
   ]
  },
  {
   "cell_type": "code",
   "execution_count": 21,
   "metadata": {},
   "outputs": [],
   "source": [
    "# get() method - getting a value from the dict based on key, WILL NOT RAISE ERROR IF KEY DOES NOT EXIST"
   ]
  },
  {
   "cell_type": "code",
   "execution_count": 22,
   "metadata": {},
   "outputs": [
    {
     "name": "stdout",
     "output_type": "stream",
     "text": [
      "Boxter\n",
      "None\n"
     ]
    }
   ],
   "source": [
    "print(car.get('model'))\n",
    "print(car.get('length'))"
   ]
  },
  {
   "cell_type": "code",
   "execution_count": 24,
   "metadata": {},
   "outputs": [
    {
     "data": {
      "text/plain": [
       "[('brand', 'Porsche'),\n",
       " ('model', 'Boxter'),\n",
       " ('year', 2018),\n",
       " ('price_than_and_now', [20000, 15000])]"
      ]
     },
     "execution_count": 24,
     "metadata": {},
     "output_type": "execute_result"
    }
   ],
   "source": [
    "# items() method - returns all pairs of key:values\n",
    "list(car.items())"
   ]
  },
  {
   "cell_type": "code",
   "execution_count": 26,
   "metadata": {},
   "outputs": [
    {
     "name": "stdout",
     "output_type": "stream",
     "text": [
      "dict_keys(['brand', 'model', 'year', 'price_than_and_now'])\n"
     ]
    },
    {
     "ename": "TypeError",
     "evalue": "'dict_keys' object is not subscriptable",
     "output_type": "error",
     "traceback": [
      "\u001b[0;31m---------------------------------------------------------------------------\u001b[0m",
      "\u001b[0;31mTypeError\u001b[0m                                 Traceback (most recent call last)",
      "\u001b[0;32m<ipython-input-26-014d6615ddd1>\u001b[0m in \u001b[0;36m<module>\u001b[0;34m\u001b[0m\n\u001b[1;32m      3\u001b[0m \u001b[0mkys\u001b[0m \u001b[0;34m=\u001b[0m \u001b[0mcar\u001b[0m\u001b[0;34m.\u001b[0m\u001b[0mkeys\u001b[0m\u001b[0;34m(\u001b[0m\u001b[0;34m)\u001b[0m\u001b[0;34m\u001b[0m\u001b[0;34m\u001b[0m\u001b[0m\n\u001b[1;32m      4\u001b[0m \u001b[0mprint\u001b[0m\u001b[0;34m(\u001b[0m\u001b[0mkys\u001b[0m\u001b[0;34m)\u001b[0m\u001b[0;34m\u001b[0m\u001b[0;34m\u001b[0m\u001b[0m\n\u001b[0;32m----> 5\u001b[0;31m \u001b[0mprint\u001b[0m\u001b[0;34m(\u001b[0m\u001b[0mkys\u001b[0m\u001b[0;34m[\u001b[0m\u001b[0;36m0\u001b[0m\u001b[0;34m]\u001b[0m\u001b[0;34m)\u001b[0m\u001b[0;34m\u001b[0m\u001b[0;34m\u001b[0m\u001b[0m\n\u001b[0m",
      "\u001b[0;31mTypeError\u001b[0m: 'dict_keys' object is not subscriptable"
     ]
    }
   ],
   "source": [
    "# keys() method - returns all keys\n",
    "# NOTE - retured object is not a list but a \"dict_keys\" object, if you want to index it you need to convert to list\n",
    "kys = car.keys()\n",
    "print(kys)\n",
    "print(kys[0])"
   ]
  },
  {
   "cell_type": "code",
   "execution_count": 28,
   "metadata": {},
   "outputs": [
    {
     "name": "stdout",
     "output_type": "stream",
     "text": [
      "['brand', 'model', 'year', 'price_than_and_now']\n",
      "brand\n"
     ]
    }
   ],
   "source": [
    "kyslist = list(car.keys())\n",
    "print(kyslist)\n",
    "print(kyslist[0])"
   ]
  },
  {
   "cell_type": "code",
   "execution_count": 30,
   "metadata": {},
   "outputs": [
    {
     "name": "stdout",
     "output_type": "stream",
     "text": [
      "dict_values(['Porsche', 'Boxter', 2018, [20000, 15000]])\n"
     ]
    },
    {
     "ename": "TypeError",
     "evalue": "'dict_values' object is not subscriptable",
     "output_type": "error",
     "traceback": [
      "\u001b[0;31m---------------------------------------------------------------------------\u001b[0m",
      "\u001b[0;31mTypeError\u001b[0m                                 Traceback (most recent call last)",
      "\u001b[0;32m<ipython-input-30-d857574e63eb>\u001b[0m in \u001b[0;36m<module>\u001b[0;34m\u001b[0m\n\u001b[1;32m      3\u001b[0m \u001b[0mvals\u001b[0m \u001b[0;34m=\u001b[0m \u001b[0mcar\u001b[0m\u001b[0;34m.\u001b[0m\u001b[0mvalues\u001b[0m\u001b[0;34m(\u001b[0m\u001b[0;34m)\u001b[0m\u001b[0;34m\u001b[0m\u001b[0;34m\u001b[0m\u001b[0m\n\u001b[1;32m      4\u001b[0m \u001b[0mprint\u001b[0m\u001b[0;34m(\u001b[0m\u001b[0mvals\u001b[0m\u001b[0;34m)\u001b[0m\u001b[0;34m\u001b[0m\u001b[0;34m\u001b[0m\u001b[0m\n\u001b[0;32m----> 5\u001b[0;31m \u001b[0mprint\u001b[0m\u001b[0;34m(\u001b[0m\u001b[0mvals\u001b[0m\u001b[0;34m[\u001b[0m\u001b[0;36m0\u001b[0m\u001b[0;34m]\u001b[0m\u001b[0;34m)\u001b[0m\u001b[0;34m\u001b[0m\u001b[0;34m\u001b[0m\u001b[0m\n\u001b[0m",
      "\u001b[0;31mTypeError\u001b[0m: 'dict_values' object is not subscriptable"
     ]
    }
   ],
   "source": [
    "# values() method returns all values\n",
    "# same as keys(), it returns a dict_values object which can't be indexed\n",
    "vals = car.values()\n",
    "print(vals)\n",
    "print(vals[0])\n"
   ]
  },
  {
   "cell_type": "code",
   "execution_count": 31,
   "metadata": {},
   "outputs": [
    {
     "name": "stdout",
     "output_type": "stream",
     "text": [
      "['Porsche', 'Boxter', 2018, [20000, 15000]]\n",
      "Porsche\n"
     ]
    }
   ],
   "source": [
    "valslist = list(car.values())\n",
    "print(valslist)\n",
    "print(valslist[0])"
   ]
  },
  {
   "cell_type": "markdown",
   "metadata": {},
   "source": [
    "### Iterating over dictionary"
   ]
  },
  {
   "cell_type": "code",
   "execution_count": 33,
   "metadata": {},
   "outputs": [
    {
     "data": {
      "text/plain": [
       "{'brand': 'Porsche',\n",
       " 'model': 'Boxter',\n",
       " 'year': 2018,\n",
       " 'price_than_and_now': [20000, 15000]}"
      ]
     },
     "execution_count": 33,
     "metadata": {},
     "output_type": "execute_result"
    }
   ],
   "source": [
    "# iterating over keys. \n",
    "# if we just use the \"for x in mydict\" x will be assigned the keys of mydict (or iterate over those keys)\n",
    "\n",
    "car"
   ]
  },
  {
   "cell_type": "code",
   "execution_count": 38,
   "metadata": {},
   "outputs": [
    {
     "name": "stdout",
     "output_type": "stream",
     "text": [
      "Current key is brand\n",
      "Current key is model\n",
      "Current key is year\n",
      "Current key is price_than_and_now\n"
     ]
    }
   ],
   "source": [
    "for key in car:\n",
    "    print(\"Current key is {}\".format(key))"
   ]
  },
  {
   "cell_type": "code",
   "execution_count": 37,
   "metadata": {},
   "outputs": [
    {
     "name": "stdout",
     "output_type": "stream",
     "text": [
      "Current value is Porsche\n",
      "Current value is Boxter\n",
      "Current value is 2018\n",
      "Current value is [20000, 15000]\n"
     ]
    }
   ],
   "source": [
    "# iterating over values\n",
    "for value in car.values():\n",
    "    print(\"Current value is {}\".format(value))"
   ]
  },
  {
   "cell_type": "code",
   "execution_count": 39,
   "metadata": {},
   "outputs": [
    {
     "name": "stdout",
     "output_type": "stream",
     "text": [
      "Current key is brand and its value is Porsche\n",
      "Current key is model and its value is Boxter\n",
      "Current key is year and its value is 2018\n",
      "Current key is price_than_and_now and its value is [20000, 15000]\n"
     ]
    }
   ],
   "source": [
    "# iterating over both keys and values\n",
    "# in order to do that we can \"unpack\" what is returned from the iteration\n",
    "for key,value in car.items():\n",
    "    print(\"Current key is {} and its value is {}\".format(key,value))"
   ]
  },
  {
   "cell_type": "code",
   "execution_count": 50,
   "metadata": {},
   "outputs": [
    {
     "data": {
      "text/plain": [
       "{'sepal length (cm)': [5.1,\n",
       "  4.9,\n",
       "  4.7,\n",
       "  4.6,\n",
       "  5.0,\n",
       "  4.4,\n",
       "  3.9,\n",
       "  5.2,\n",
       "  4.2,\n",
       "  4.2,\n",
       "  4.0,\n",
       "  5.5],\n",
       " 'sepal width (cm)': [3.5,\n",
       "  3.0,\n",
       "  3.2,\n",
       "  3.1,\n",
       "  3.6,\n",
       "  3.3,\n",
       "  3.4,\n",
       "  2.9,\n",
       "  4.1,\n",
       "  3.9,\n",
       "  3.1,\n",
       "  3.3],\n",
       " 'petal length (cm)': [1.4,\n",
       "  1.4,\n",
       "  1.3,\n",
       "  1.5,\n",
       "  1.4,\n",
       "  1.7,\n",
       "  1.8,\n",
       "  2.0,\n",
       "  1.9,\n",
       "  1.1,\n",
       "  1.2,\n",
       "  0.9],\n",
       " 'species': ['virginica',\n",
       "  'setosa',\n",
       "  'versicolor',\n",
       "  'virginica',\n",
       "  'versicolor',\n",
       "  'setosa',\n",
       "  'virginica',\n",
       "  'setosa',\n",
       "  'versicolor',\n",
       "  'virginica',\n",
       "  'versicolor',\n",
       "  'setosa']}"
      ]
     },
     "execution_count": 50,
     "metadata": {},
     "output_type": "execute_result"
    }
   ],
   "source": [
    "# let's create a more \"data-sciency\" dict\n",
    "iris_dataset = {'sepal length (cm)': [5.1, 4.9, 4.7, 4.6, 5.0, 4.4, 3.9, 5.2, 4.2, 4.2, 4.0, 5.5],\n",
    "                'sepal width (cm)': [3.5, 3.0, 3.2, 3.1, 3.6, 3.3, 3.4, 2.9, 4.1, 3.9, 3.1, 3.3],\n",
    "                'petal length (cm)': [1.4, 1.4, 1.3, 1.5, 1.4, 1.7, 1.8, 2.0, 1.9, 1.1, 1.2, 0.9],\n",
    "                'species': ['virginica', 'setosa', 'versicolor', 'virginica', 'versicolor', 'setosa', 'virginica', \n",
    "                            'setosa', 'versicolor', 'virginica', 'versicolor', 'setosa']\n",
    "               }\n",
    "iris_dataset"
   ]
  },
  {
   "cell_type": "code",
   "execution_count": null,
   "metadata": {},
   "outputs": [],
   "source": [
    "# we want a new dictionary with the normalization of the values ,per feature\n",
    "# reminder  ---> z = (x - u)/sigma , we end up with a feature with 0 mean and std of 1\n",
    "# various statistical make use of the standard score (most notebly t-test)\n",
    "# it is also very usful for many machine learning algorithms as well as artificial neural networks"
   ]
  },
  {
   "cell_type": "code",
   "execution_count": 56,
   "metadata": {},
   "outputs": [
    {
     "name": "stdout",
     "output_type": "stream",
     "text": [
      "Feature is sepal length (cm):\n",
      "The mean of the feature after z-norm is 0.0\n",
      "The std of the feature after z-norm is 1.0\n",
      "\n",
      "\n",
      "Feature is sepal width (cm):\n",
      "The mean of the feature after z-norm is -0.0\n",
      "The std of the feature after z-norm is 1.0\n",
      "\n",
      "\n",
      "Feature is petal length (cm):\n",
      "The mean of the feature after z-norm is 0.0\n",
      "The std of the feature after z-norm is 1.0\n",
      "\n",
      "\n",
      "Feature is species:\n"
     ]
    }
   ],
   "source": [
    "# we create a new empty dict\n",
    "z_iris_dataset = {}\n",
    "# we iterate over key:value pairs\n",
    "for key,val in iris_dataset.items():\n",
    "    print(\"Feature is {}:\".format(key))\n",
    "    # check that we only work with numerical key:value pairs and neglect the species one\n",
    "    if key=='species':\n",
    "        # if we're at the species key, we'll only assign it as is to the new dictionary\n",
    "        z_iris_dataset[key] = val\n",
    "    else:\n",
    "        # transform list into a numpy array - it's just easier\n",
    "        npval = np.array(val)\n",
    "        # calculate the feature std and mean\n",
    "        valstd = np.std(npval)\n",
    "        valmean= np.mean(npval)\n",
    "        # transform into z-values\n",
    "        ztrans = (npval - valmean)/valstd\n",
    "        print(\"The mean of the feature after z-norm is {}\".format(np.round(np.mean(ztrans),1)))\n",
    "        print(\"The std of the feature after z-norm is {}\".format(np.std(ztrans)))\n",
    "        print('\\n')\n",
    "        # assign into new dictionary. since it has no keys, \n",
    "        # we'll add each iteration the key that is the feature name (speal length(cm) etc.)\n",
    "        z_iris_dataset[key] = ztrans"
   ]
  },
  {
   "cell_type": "code",
   "execution_count": 57,
   "metadata": {},
   "outputs": [
    {
     "data": {
      "text/plain": [
       "{'sepal length (cm)': array([ 0.93733358,  0.52831529,  0.119297  , -0.08521214,  0.73282444,\n",
       "        -0.49423044, -1.51677616,  1.14184273, -0.90324873, -0.90324873,\n",
       "        -1.31226702,  1.75537017]),\n",
       " 'sepal width (cm)': array([ 0.3866946 , -1.06341014, -0.48336824, -0.77338919,  0.67671554,\n",
       "        -0.1933473 ,  0.09667365, -1.35343108,  2.12682028,  1.54677838,\n",
       "        -0.77338919, -0.1933473 ]),\n",
       " 'petal length (cm)': array([-0.21023533, -0.21023533, -0.52558833,  0.10511767, -0.21023533,\n",
       "         0.73582366,  1.05117666,  1.68188266,  1.36652966, -1.15629433,\n",
       "        -0.84094133, -1.78700033]),\n",
       " 'species': ['virginica',\n",
       "  'setosa',\n",
       "  'versicolor',\n",
       "  'virginica',\n",
       "  'versicolor',\n",
       "  'setosa',\n",
       "  'virginica',\n",
       "  'setosa',\n",
       "  'versicolor',\n",
       "  'virginica',\n",
       "  'versicolor',\n",
       "  'setosa']}"
      ]
     },
     "execution_count": 57,
     "metadata": {},
     "output_type": "execute_result"
    }
   ],
   "source": [
    "z_iris_dataset"
   ]
  },
  {
   "cell_type": "markdown",
   "metadata": {},
   "source": [
    "# Numpy\n",
    "\n",
    "Perhaps the most important library in python, upon which many other libraries are built (pandas, scikit-learn)\n",
    "Is faster and more easy to use than lists\n",
    "Basic \"building block\" - the numpy array"
   ]
  },
  {
   "cell_type": "code",
   "execution_count": 58,
   "metadata": {},
   "outputs": [],
   "source": [
    "import numpy as np"
   ]
  },
  {
   "cell_type": "code",
   "execution_count": 61,
   "metadata": {},
   "outputs": [
    {
     "name": "stdout",
     "output_type": "stream",
     "text": [
      "[1 2 3 4]\n",
      "[4 5 6 7]\n"
     ]
    }
   ],
   "source": [
    "myfirstnp = np.array([1,2,3,4])\n",
    "mysecondnp = np.array((4,5,6,7))\n",
    "print(myfirstnp)\n",
    "print(mysecondnp)"
   ]
  },
  {
   "cell_type": "markdown",
   "metadata": {},
   "source": [
    "Unlike lists, only int, float and bool are allowed"
   ]
  },
  {
   "cell_type": "code",
   "execution_count": 62,
   "metadata": {},
   "outputs": [
    {
     "data": {
      "text/plain": [
       "array([  4.5    ,   2.7    , 100.74325])"
      ]
     },
     "execution_count": 62,
     "metadata": {},
     "output_type": "execute_result"
    }
   ],
   "source": [
    "a = np.array([4.5,2.7,100.74325])\n",
    "a"
   ]
  },
  {
   "cell_type": "code",
   "execution_count": 63,
   "metadata": {},
   "outputs": [],
   "source": [
    "a = np.array([True,False,True])"
   ]
  },
  {
   "cell_type": "code",
   "execution_count": 64,
   "metadata": {},
   "outputs": [
    {
     "data": {
      "text/plain": [
       "array([ True, False,  True])"
      ]
     },
     "execution_count": 64,
     "metadata": {},
     "output_type": "execute_result"
    }
   ],
   "source": [
    "a"
   ]
  },
  {
   "cell_type": "markdown",
   "metadata": {},
   "source": [
    "#### Useful basic numpy function to create arrays (very limited)"
   ]
  },
  {
   "cell_type": "code",
   "execution_count": 66,
   "metadata": {},
   "outputs": [
    {
     "name": "stdout",
     "output_type": "stream",
     "text": [
      "[0 1 2 3 4]\n",
      "[1 2 3 4 5]\n",
      "[3 5 7]\n"
     ]
    }
   ],
   "source": [
    "# arange - just like the range function, but returns a numpy array and not a range object/list\n",
    "a = np.arange(5)\n",
    "print(a)\n",
    "a = np.arange(1,6)\n",
    "print(a)\n",
    "a = np.arange(3,9,2)\n",
    "print(a)"
   ]
  },
  {
   "cell_type": "code",
   "execution_count": 69,
   "metadata": {},
   "outputs": [
    {
     "name": "stdout",
     "output_type": "stream",
     "text": [
      "[ 0.          0.52631579  1.05263158  1.57894737  2.10526316  2.63157895\n",
      "  3.15789474  3.68421053  4.21052632  4.73684211  5.26315789  5.78947368\n",
      "  6.31578947  6.84210526  7.36842105  7.89473684  8.42105263  8.94736842\n",
      "  9.47368421 10.        ]\n"
     ]
    }
   ],
   "source": [
    "# linspace - creates an array with start, finish, and a fixed number of elements,\n",
    "# so spacing happens \"behind the scenes\"\n",
    "a = np.linspace(0,10,20)\n",
    "print(a)"
   ]
  },
  {
   "cell_type": "code",
   "execution_count": 74,
   "metadata": {},
   "outputs": [
    {
     "name": "stdout",
     "output_type": "stream",
     "text": [
      "[0. 0. 0. 0. 0.]\n",
      "\n",
      "\n",
      "[1. 1. 1. 1. 1.]\n",
      "\n",
      "\n",
      "[[0. 0.]\n",
      " [0. 0.]]\n",
      "\n",
      "\n",
      "[[1. 1.]\n",
      " [1. 1.]]\n"
     ]
    }
   ],
   "source": [
    "# zeros - creates an array of zeros with some shape\n",
    "# ones - creates an array of ones with some shape\n",
    "### if number of dimensions is larger than 1, the shape arguement is expected to be a tuple\n",
    "### with (rows, col,channels..) structure\n",
    "a = np.zeros(5)\n",
    "print(a)\n",
    "print('\\n')\n",
    "a = np.ones(5)\n",
    "print(a)\n",
    "print('\\n')\n",
    "a = np.zeros((2,2))\n",
    "print(a)\n",
    "print('\\n')\n",
    "a = np.ones((2,2,))\n",
    "print(a)"
   ]
  },
  {
   "cell_type": "markdown",
   "metadata": {},
   "source": [
    "#### Array attributes"
   ]
  },
  {
   "cell_type": "code",
   "execution_count": 75,
   "metadata": {},
   "outputs": [
    {
     "name": "stdout",
     "output_type": "stream",
     "text": [
      "[[1. 1. 1. 1. 1.]\n",
      " [1. 1. 1. 1. 1.]\n",
      " [1. 1. 1. 1. 1.]\n",
      " [1. 1. 1. 1. 1.]\n",
      " [1. 1. 1. 1. 1.]]\n",
      "\n",
      "\n",
      "(5, 5)\n"
     ]
    }
   ],
   "source": [
    "# shape - contains the number of rows, col, chanells, etc, is stored as a tuple\n",
    "a = np.ones((5,5))\n",
    "print(a)\n",
    "print('\\n')\n",
    "shape_of = a.shape\n",
    "print(shape_of)"
   ]
  },
  {
   "cell_type": "code",
   "execution_count": 76,
   "metadata": {},
   "outputs": [
    {
     "name": "stdout",
     "output_type": "stream",
     "text": [
      "(5, 3, 5)\n"
     ]
    }
   ],
   "source": [
    "a = np.ones((5,3,5))\n",
    "shape_of = a.shape\n",
    "print(shape_of)"
   ]
  },
  {
   "cell_type": "code",
   "execution_count": 77,
   "metadata": {},
   "outputs": [
    {
     "name": "stdout",
     "output_type": "stream",
     "text": [
      "3\n"
     ]
    }
   ],
   "source": [
    "# ndim - number of dimensions\n",
    "print(a.ndim)"
   ]
  },
  {
   "cell_type": "markdown",
   "metadata": {},
   "source": [
    "#### Operations and Broadcasting\n",
    "we can add, substruct, multiply etc element wise in numpy\n",
    "\n",
    "we can also broadcast - use arrays of different shapes when doing aritmatics between arrays"
   ]
  },
  {
   "cell_type": "code",
   "execution_count": 87,
   "metadata": {},
   "outputs": [],
   "source": [
    "a = np.array([1,2,3,4,5])\n",
    "c = np.array([4,5,6,7,8])"
   ]
  },
  {
   "cell_type": "code",
   "execution_count": 90,
   "metadata": {},
   "outputs": [
    {
     "name": "stdout",
     "output_type": "stream",
     "text": [
      "[11 12 13 14 15]\n",
      "\n",
      "\n",
      "[ 2  4  6  8 10]\n",
      "\n",
      "\n",
      "[0.5 1.  1.5 2.  2.5]\n",
      "\n",
      "\n",
      "[ 1  4  9 16 25]\n",
      "\n",
      "\n"
     ]
    }
   ],
   "source": [
    "b = a+ 10\n",
    "print(b)\n",
    "print('\\n')\n",
    "b = a * 2\n",
    "print(b)\n",
    "print('\\n')\n",
    "b = a / 2\n",
    "print(b)\n",
    "print('\\n')\n",
    "b = a**2\n",
    "print(b)\n",
    "print('\\n')"
   ]
  },
  {
   "cell_type": "code",
   "execution_count": 89,
   "metadata": {},
   "outputs": [
    {
     "name": "stdout",
     "output_type": "stream",
     "text": [
      "[ 5  7  9 11 13]\n",
      "\n",
      "\n",
      "[-3 -3 -3 -3 -3]\n",
      "\n",
      "\n",
      "[ 4 10 18 28 40]\n",
      "\n",
      "\n",
      "[     1     32    729  16384 390625]\n",
      "\n",
      "\n"
     ]
    }
   ],
   "source": [
    "b = a+c\n",
    "print(b)\n",
    "print('\\n')\n",
    "b = a-c\n",
    "print(b)\n",
    "print('\\n')\n",
    "b= a*c\n",
    "print(b)\n",
    "print('\\n')\n",
    "b = a**c\n",
    "print(b)\n",
    "print('\\n')"
   ]
  },
  {
   "cell_type": "code",
   "execution_count": 22,
   "metadata": {},
   "outputs": [
    {
     "name": "stdout",
     "output_type": "stream",
     "text": [
      "a mat:\n",
      "[[1. 1. 1. 1. 1.]\n",
      " [1. 1. 1. 1. 1.]\n",
      " [1. 1. 1. 1. 1.]\n",
      " [1. 1. 1. 1. 1.]\n",
      " [1. 1. 1. 1. 1.]]\n",
      "\n",
      "\n",
      "b mat:\n",
      "[[3. 3. 3. 3. 3.]\n",
      " [3. 3. 3. 3. 3.]\n",
      " [3. 3. 3. 3. 3.]\n",
      " [3. 3. 3. 3. 3.]\n",
      " [3. 3. 3. 3. 3.]]\n",
      "\n",
      "\n",
      "z mat:\n",
      "[[4. 4. 4. 4. 4.]\n",
      " [4. 4. 4. 4. 4.]\n",
      " [4. 4. 4. 4. 4.]\n",
      " [4. 4. 4. 4. 4.]\n",
      " [4. 4. 4. 4. 4.]]\n"
     ]
    }
   ],
   "source": [
    "# works with 2D arrays as well\n",
    "a = np.ones((5,5))\n",
    "b = 3* np.ones((5,5))\n",
    "\n",
    "print(\"a mat:\")\n",
    "print(a)\n",
    "print('\\n')\n",
    "print(\"b mat:\")\n",
    "print(b)\n",
    "print('\\n')\n",
    "\n",
    "z = a + b\n",
    "print(\"z mat:\")\n",
    "print(z)"
   ]
  },
  {
   "cell_type": "code",
   "execution_count": 27,
   "metadata": {},
   "outputs": [
    {
     "name": "stdout",
     "output_type": "stream",
     "text": [
      "a mat:\n",
      "[[1. 1. 1. 1. 1.]\n",
      " [1. 1. 1. 1. 1.]\n",
      " [1. 1. 1. 1. 1.]\n",
      " [1. 1. 1. 1. 1.]\n",
      " [1. 1. 1. 1. 1.]]\n",
      "\n",
      "\n",
      "b vec:\n",
      "[[4. 4. 4. 4. 4.]]\n",
      "\n",
      "\n",
      "z mat:\n",
      "[[5. 5. 5. 5. 5.]\n",
      " [5. 5. 5. 5. 5.]\n",
      " [5. 5. 5. 5. 5.]\n",
      " [5. 5. 5. 5. 5.]\n",
      " [5. 5. 5. 5. 5.]]\n"
     ]
    }
   ],
   "source": [
    "# for broadcasting smaller arrays into larger ones\n",
    "# a remains the same\n",
    "print(\"a mat:\")\n",
    "print(a)\n",
    "print('\\n')\n",
    "\n",
    "b = 4* np.ones((1,5))\n",
    "print(\"b vec:\")\n",
    "print(b)\n",
    "print('\\n')\n",
    "\n",
    "z = a + b\n",
    "print(\"z mat:\")\n",
    "print(z)"
   ]
  },
  {
   "cell_type": "markdown",
   "metadata": {},
   "source": [
    "#### Array methods"
   ]
  },
  {
   "cell_type": "code",
   "execution_count": 93,
   "metadata": {},
   "outputs": [],
   "source": [
    "a = np.array([1,2,3,4,5,6,7,8,9])"
   ]
  },
  {
   "cell_type": "code",
   "execution_count": 94,
   "metadata": {},
   "outputs": [
    {
     "data": {
      "text/plain": [
       "(9,)"
      ]
     },
     "execution_count": 94,
     "metadata": {},
     "output_type": "execute_result"
    }
   ],
   "source": [
    "a.shape"
   ]
  },
  {
   "cell_type": "code",
   "execution_count": 96,
   "metadata": {},
   "outputs": [
    {
     "name": "stdout",
     "output_type": "stream",
     "text": [
      "[[1 2 3]\n",
      " [4 5 6]\n",
      " [7 8 9]]\n"
     ]
    }
   ],
   "source": [
    "# reshape - transform a to be of different shape, must be compatible with the previous shape\n",
    "a = a.reshape((3,3))\n",
    "print (a)"
   ]
  },
  {
   "cell_type": "code",
   "execution_count": 97,
   "metadata": {},
   "outputs": [
    {
     "ename": "ValueError",
     "evalue": "cannot reshape array of size 9 into shape (2,4)",
     "output_type": "error",
     "traceback": [
      "\u001b[0;31m---------------------------------------------------------------------------\u001b[0m",
      "\u001b[0;31mValueError\u001b[0m                                Traceback (most recent call last)",
      "\u001b[0;32m<ipython-input-97-85d67ab50609>\u001b[0m in \u001b[0;36m<module>\u001b[0;34m\u001b[0m\n\u001b[0;32m----> 1\u001b[0;31m \u001b[0ma\u001b[0m \u001b[0;34m=\u001b[0m \u001b[0ma\u001b[0m\u001b[0;34m.\u001b[0m\u001b[0mreshape\u001b[0m\u001b[0;34m(\u001b[0m\u001b[0;34m(\u001b[0m\u001b[0;36m2\u001b[0m\u001b[0;34m,\u001b[0m\u001b[0;36m4\u001b[0m\u001b[0;34m)\u001b[0m\u001b[0;34m)\u001b[0m\u001b[0;34m\u001b[0m\u001b[0;34m\u001b[0m\u001b[0m\n\u001b[0m",
      "\u001b[0;31mValueError\u001b[0m: cannot reshape array of size 9 into shape (2,4)"
     ]
    }
   ],
   "source": [
    "a = a.reshape((2,4))"
   ]
  },
  {
   "cell_type": "code",
   "execution_count": 98,
   "metadata": {},
   "outputs": [
    {
     "name": "stdout",
     "output_type": "stream",
     "text": [
      "[[0 1 2 3]\n",
      " [4 5 6 7]]\n",
      "\n",
      "\n",
      "[0 1 2 3 4 5 6 7]\n"
     ]
    }
   ],
   "source": [
    "# flatten - will return a long array with only 1D\n",
    "a = np.arange(8).reshape(2,4) \n",
    "print(a)\n",
    "print('\\n')\n",
    "b = a.flatten()\n",
    "print(b)"
   ]
  },
  {
   "cell_type": "code",
   "execution_count": 100,
   "metadata": {},
   "outputs": [
    {
     "name": "stdout",
     "output_type": "stream",
     "text": [
      "[[0 1 2 3]\n",
      " [4 5 6 7]]\n",
      "\n",
      "\n",
      "[[0 4]\n",
      " [1 5]\n",
      " [2 6]\n",
      " [3 7]]\n"
     ]
    }
   ],
   "source": [
    "# transpose operation\n",
    "print(a)\n",
    "print('\\n')\n",
    "b = a.T\n",
    "print(b)"
   ]
  },
  {
   "cell_type": "code",
   "execution_count": 3,
   "metadata": {},
   "outputs": [
    {
     "name": "stdout",
     "output_type": "stream",
     "text": [
      "[  1   2   3   4   5   6   7   8   9  -2  -4  -6  -8 -10 -12 -14 -16 -18]\n"
     ]
    }
   ],
   "source": [
    "# joining two or more arrays\n",
    "# concatenate - concatinates two or more arrays, the arrays needs to be put in a tuple, and have ndim = 1\n",
    "a = np.array([1,2,3,4,5,6,7,8,9])\n",
    "b = a * -2\n",
    "c = np.concatenate((a,b))\n",
    "print(c)"
   ]
  },
  {
   "cell_type": "code",
   "execution_count": 4,
   "metadata": {},
   "outputs": [
    {
     "name": "stdout",
     "output_type": "stream",
     "text": [
      "[  1   2   3   4   5   6   7   8   9  -2  -4  -6  -8 -10 -12 -14 -16 -18\n",
      "  -7  -9 -11 -13 -15 -17 -19 -21 -23]\n"
     ]
    }
   ],
   "source": [
    "a = np.array([1,2,3,4,5,6,7,8,9])\n",
    "b = a * -2\n",
    "c = b -5\n",
    "d = np.concatenate((a,b,c))\n",
    "print(d)"
   ]
  },
  {
   "cell_type": "code",
   "execution_count": 10,
   "metadata": {},
   "outputs": [
    {
     "name": "stdout",
     "output_type": "stream",
     "text": [
      "[[  1   2   3   4   5   6   7   8   9]\n",
      " [ -7  -9 -11 -13 -15 -17 -19 -21 -23]]\n",
      "\n",
      "\n",
      "[  1   2   3   4   5   6   7   8   9  -7  -9 -11 -13 -15 -17 -19 -21 -23]\n"
     ]
    }
   ],
   "source": [
    "# hstack, vstack - vertically or horizontally stack arrays, arrays need to be packed in a tuple\n",
    "\n",
    "# vstack\n",
    "d = np.vstack((a,c))\n",
    "print(d)\n",
    "print('\\n')\n",
    "# hstack\n",
    "d = np.hstack((a,c))\n",
    "print(d)"
   ]
  },
  {
   "cell_type": "code",
   "execution_count": 14,
   "metadata": {},
   "outputs": [
    {
     "name": "stdout",
     "output_type": "stream",
     "text": [
      "a matrix:\n",
      "[[1. 1. 1. 1. 1.]\n",
      " [1. 1. 1. 1. 1.]]\n",
      "\n",
      "\n",
      "b matrix:\n",
      "[[3. 3. 3. 3. 3.]\n",
      " [3. 3. 3. 3. 3.]]\n",
      "\n",
      "\n",
      "Vertical stack:\n",
      "[[1. 1. 1. 1. 1.]\n",
      " [1. 1. 1. 1. 1.]\n",
      " [3. 3. 3. 3. 3.]\n",
      " [3. 3. 3. 3. 3.]]\n",
      "\n",
      "\n",
      "Horizontal stack\n",
      "[[1. 1. 1. 1. 1. 3. 3. 3. 3. 3.]\n",
      " [1. 1. 1. 1. 1. 3. 3. 3. 3. 3.]]\n"
     ]
    }
   ],
   "source": [
    "a = np.ones((2,5))\n",
    "print(\"a matrix:\")\n",
    "print(a)\n",
    "print('\\n')\n",
    "b = 3* np.ones((2,5))\n",
    "print(\"b matrix:\")\n",
    "print(b)\n",
    "print('\\n')\n",
    "d = np.vstack((a,b))\n",
    "print(\"Vertical stack:\")\n",
    "print(d)\n",
    "print('\\n')\n",
    "# hstack\n",
    "print(\"Horizontal stack\")\n",
    "d = np.hstack((a,b))\n",
    "print(d)"
   ]
  },
  {
   "cell_type": "markdown",
   "metadata": {},
   "source": [
    "#### Slicing an indexing\n",
    "Unlike lists we can index and slice across both rows and columns (and more higher dimensions)"
   ]
  },
  {
   "cell_type": "code",
   "execution_count": 30,
   "metadata": {},
   "outputs": [
    {
     "data": {
      "text/plain": [
       "array([[0, 7, 7, 2, 8],\n",
       "       [9, 1, 8, 7, 8],\n",
       "       [1, 9, 1, 6, 2],\n",
       "       [9, 4, 5, 4, 4],\n",
       "       [0, 7, 8, 6, 7]])"
      ]
     },
     "execution_count": 30,
     "metadata": {},
     "output_type": "execute_result"
    }
   ],
   "source": [
    "a = np.random.randint(0,10,size=(5,5))\n",
    "a"
   ]
  },
  {
   "cell_type": "code",
   "execution_count": 34,
   "metadata": {},
   "outputs": [
    {
     "name": "stdout",
     "output_type": "stream",
     "text": [
      "First row\n",
      "[0 7 7 2 8]\n",
      "\n",
      "\n",
      "[0 7 7 2 8]\n",
      "\n",
      "\n",
      "First col\n",
      "[0 9 1 9 0]\n",
      "\n",
      "\n"
     ]
    }
   ],
   "source": [
    "# Basic slicing is an extension of Python's basic concept of slicing to n dimensions.\n",
    "#A Python slice object is constructed by giving start, stop, and step parameters to the built-in slice function. \n",
    "# formula --> [rows, columns] --> [start:stop:step , start:stop:step], remember the stop is exclusive and the start in inclusive\n",
    "# [j,:] --> jth row, all columns\n",
    "# [:,j] --> jth columns, all rows\n",
    "\n",
    "# get first row\n",
    "print(\"First row\")\n",
    "b = a[0]\n",
    "print(b)\n",
    "print('\\n')\n",
    "b = a[0,:]\n",
    "print(b)\n",
    "print('\\n')\n",
    "\n",
    "# get first columns\n",
    "b = a[:,0]\n",
    "print(\"First col\")\n",
    "print(b)\n",
    "print('\\n')"
   ]
  },
  {
   "cell_type": "code",
   "execution_count": 39,
   "metadata": {},
   "outputs": [
    {
     "name": "stdout",
     "output_type": "stream",
     "text": [
      "a mat:\n",
      "[[2 4 9 8 1 5 8 5 2 3]\n",
      " [2 9 8 7 5 1 8 1 5 6]\n",
      " [0 5 1 7 9 1 5 8 4 0]\n",
      " [6 9 1 0 7 0 1 4 0 3]\n",
      " [6 9 6 2 1 4 7 4 9 5]\n",
      " [8 3 9 1 6 6 6 0 0 5]\n",
      " [2 1 3 1 3 8 6 5 3 2]\n",
      " [5 3 4 5 3 1 3 5 9 4]\n",
      " [7 2 2 2 4 9 0 5 0 0]\n",
      " [0 5 5 5 1 2 1 1 0 2]]\n",
      "\n",
      "\n",
      "First 3 rows:\n",
      "[[2 4 9 8 1 5 8 5 2 3]\n",
      " [2 9 8 7 5 1 8 1 5 6]\n",
      " [0 5 1 7 9 1 5 8 4 0]]\n",
      "\n",
      "\n",
      "First 3 columns\n",
      "[[2 4 9]\n",
      " [2 9 8]\n",
      " [0 5 1]\n",
      " [6 9 1]\n",
      " [6 9 6]\n",
      " [8 3 9]\n",
      " [2 1 3]\n",
      " [5 3 4]\n",
      " [7 2 2]\n",
      " [0 5 5]]\n",
      "\n",
      "\n",
      "All even rows until 7:\n",
      "[[2 4 9 8 1 5 8 5 2 3]\n",
      " [0 5 1 7 9 1 5 8 4 0]\n",
      " [6 9 6 2 1 4 7 4 9 5]\n",
      " [2 1 3 1 3 8 6 5 3 2]]\n",
      "\n",
      "\n"
     ]
    }
   ],
   "source": [
    "# let's expand a a bit:\n",
    "a = np.random.randint(0,10,size=(10,10))\n",
    "print(\"a mat:\")\n",
    "print(a)\n",
    "print('\\n')\n",
    "# get first 3 rows\n",
    "print(\"First 3 rows:\")\n",
    "b = a[:3,:]\n",
    "print(b)\n",
    "print('\\n')\n",
    "# get first 3 columns\n",
    "print(\"First 3 columns\")\n",
    "b = a[:,:3]\n",
    "print(b)\n",
    "print('\\n')\n",
    "# get all even rows until the 7th row (index 0, 2, 4 ,6)\n",
    "print(\"All even rows until 7:\")\n",
    "b = a[:7:2,:]\n",
    "print(b)\n",
    "print('\\n')"
   ]
  },
  {
   "cell_type": "code",
   "execution_count": 41,
   "metadata": {},
   "outputs": [
    {
     "name": "stdout",
     "output_type": "stream",
     "text": [
      "[[2 4 9 8 1 5 8 5 2 3]\n",
      " [2 9 8 7 5 1 8 1 5 6]\n",
      " [0 5 1 7 9 1 5 8 4 0]\n",
      " [6 9 1 0 7 0 1 4 0 3]\n",
      " [6 9 6 2 1 4 7 4 9 5]\n",
      " [8 3 9 1 6 6 6 0 0 5]\n",
      " [2 1 3 1 3 8 6 5 3 2]\n",
      " [5 3 4 5 3 1 3 5 9 4]\n",
      " [7 2 2 2 4 9 0 5 0 0]\n",
      " [0 5 5 5 1 2 1 1 0 2]]\n",
      "\n",
      "\n",
      "[[9 1 5]\n",
      " [7 0 1]\n",
      " [1 4 7]]\n",
      "\n",
      "\n"
     ]
    }
   ],
   "source": [
    "print(a)\n",
    "print('\\n')\n",
    "\n",
    "# slicing both rows and columns, 2-4 rows, 4-6 columns\n",
    "b = a[2:5,4:7]\n",
    "print(b)\n",
    "print('\\n')"
   ]
  },
  {
   "cell_type": "code",
   "execution_count": 45,
   "metadata": {},
   "outputs": [
    {
     "name": "stdout",
     "output_type": "stream",
     "text": [
      "[9 8 8 9 8 7 8 6 7 9 8 6 9 7 6 9 6 7 9 8 9 6 6 6 8 6 9 7 9]\n",
      "[[0 2]\n",
      " [0 3]\n",
      " [0 6]\n",
      " [1 1]\n",
      " [1 2]\n",
      " [1 3]\n",
      " [1 6]\n",
      " [1 9]\n",
      " [2 3]\n",
      " [2 4]\n",
      " [2 7]\n",
      " [3 0]\n",
      " [3 1]\n",
      " [3 4]\n",
      " [4 0]\n",
      " [4 1]\n",
      " [4 2]\n",
      " [4 6]\n",
      " [4 8]\n",
      " [5 0]\n",
      " [5 2]\n",
      " [5 4]\n",
      " [5 5]\n",
      " [5 6]\n",
      " [6 5]\n",
      " [6 6]\n",
      " [7 8]\n",
      " [8 0]\n",
      " [8 5]]\n"
     ]
    }
   ],
   "source": [
    "# last, we can use masking to slice only values we prefer\n",
    "threshold = 5\n",
    "b = a[a > threshold]\n",
    "print(b)\n",
    "\n",
    "# we can get their index a bit differently\n",
    "b = np.argwhere(a > threshold)\n",
    "print(b)"
   ]
  },
  {
   "cell_type": "markdown",
   "metadata": {},
   "source": [
    "#### a few more helpful functions"
   ]
  },
  {
   "cell_type": "code",
   "execution_count": 54,
   "metadata": {},
   "outputs": [
    {
     "name": "stdout",
     "output_type": "stream",
     "text": [
      "max num is 10, and its index is 2\n"
     ]
    }
   ],
   "source": [
    "# argmax, argmin --> returns the index of the maximum value in an array, if a few elements fit, then the first returns\n",
    "a = np.array([1,5,10,-5,2,5,3,8,9])\n",
    "ind = np.argmax(a)\n",
    "print(\"max num is {}, and its index is {}\".format(a[ind],ind))"
   ]
  },
  {
   "cell_type": "code",
   "execution_count": 64,
   "metadata": {},
   "outputs": [
    {
     "name": "stdout",
     "output_type": "stream",
     "text": [
      "[0.36566407 0.59506159 0.02786914 0.638916   1.2986707 ]\n",
      "\n",
      "\n",
      "[[ 0.38970056 -0.26559659  0.45096654]\n",
      " [ 0.79472875  1.46479721  0.33845621]\n",
      " [-0.9285985  -0.60275463  1.69269851]]\n",
      "\n",
      "\n",
      "\n",
      "\n",
      "[[4 4]\n",
      " [2 1]]\n",
      "\n",
      "\n",
      "[[ 7.12649051  6.8725381   2.61264774 -2.45630311  4.84418785]\n",
      " [ 3.41737562  6.91881043  5.95050592  4.13830292  3.70179336]\n",
      " [ 6.1006345   5.44572822  7.31827298  9.26736336  3.69707419]\n",
      " [ 3.94222041  2.82717827  8.95682957  2.91441223  8.09479603]\n",
      " [ 8.20582927  5.7222493  -0.8098864  -1.48735796  0.25064568]]\n",
      "Mean of matrix: 4.542893559449478 , std: 3.1302085956742833\n"
     ]
    }
   ],
   "source": [
    "# random:\n",
    "# randn --> returns number from a standart normal dist with mean 0 and std 1\n",
    "# randint --> returns number between low and high in uniform dist\n",
    "# normal --> returns a number from a normal dist with mean mu and std sig\n",
    "print(np.random.randn(5))\n",
    "print('\\n')\n",
    "print(np.random.randn(3,3))\n",
    "print('\\n')\n",
    "print('\\n')\n",
    "print(np.random.randint(1,5,(2,2)))\n",
    "print('\\n')\n",
    "a = np.random.normal(5,3,(5,5))\n",
    "print(a)\n",
    "print(\"Mean of matrix: {} , std: {}\".format(a.mean(),a.std()))"
   ]
  },
  {
   "cell_type": "code",
   "execution_count": null,
   "metadata": {},
   "outputs": [],
   "source": []
  }
 ],
 "metadata": {
  "kernelspec": {
   "display_name": "Python 3",
   "language": "python",
   "name": "python3"
  },
  "language_info": {
   "codemirror_mode": {
    "name": "ipython",
    "version": 3
   },
   "file_extension": ".py",
   "mimetype": "text/x-python",
   "name": "python",
   "nbconvert_exporter": "python",
   "pygments_lexer": "ipython3",
   "version": "3.6.10"
  }
 },
 "nbformat": 4,
 "nbformat_minor": 4
}
